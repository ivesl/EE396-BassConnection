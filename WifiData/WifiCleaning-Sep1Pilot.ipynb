{
 "cells": [
  {
   "cell_type": "code",
   "execution_count": 9,
   "metadata": {},
   "outputs": [],
   "source": [
    "import pandas as pd\n",
    "import numpy as np"
   ]
  },
  {
   "cell_type": "markdown",
   "metadata": {},
   "source": [
    "## Helper functions imported from foottraffic team's \"apCountsv2.py\""
   ]
  },
  {
   "cell_type": "code",
   "execution_count": 24,
   "metadata": {},
   "outputs": [],
   "source": [
    "# README: this code tracks user count of ap regions\n",
    "def extract_time(time):\n",
    "    # Extracts the information about time in data\n",
    "    date = time.split('T')[0]\n",
    "    t = time.split('T')[1]\n",
    "    t = t.split('.')[0]\n",
    "    hour = t.split(':')[0]\n",
    "    minute = t.split(':')[1]\n",
    "    totalMin = int(hour) * 60 + int(minute)\n",
    "    return [t, totalMin, date]"
   ]
  },
  {
   "cell_type": "code",
   "execution_count": 25,
   "metadata": {},
   "outputs": [],
   "source": [
    "#LFI Comment: uncclear if ap names match up correctly for this function - need to check\n",
    "#Purpose of this function unclear\n",
    "def reduce(dic):\n",
    "    build = ['bryancenter-roof-ap1562d-rw-8','bryancenter-roof-ap1562d-rw-10',\n",
    "             '7791-bryancenter-roof-11','bryancenter-roof-ap1562d-rw-5','bryancenter-roof-ap1562d-rw-4',\n",
    "             'bryancenter-roof-ap1562d-rw-7','bryancenter-roof-ap1562d-rw-6','bryancenter-tkoff-ap3502i-hc-1',\n",
    "             'bryancenter-roof-ap1562d-rw-1','bryancenter-roof-ap1562d-rw-3','bryancenter-roof-ap1562d-rw-2',\n",
    "             'bryancenter-0037-ap3502i-rc-1','bryancenter-245-ap3502i-hc-1','bryanctr-mcdonalds-ap3502i-rc-1',\n",
    "             'bryancenter-305-ap3502i-rc-4','bryanctr-pg4-ap3502e-ow-1','bryancenter-303-ap3502i-rc-1',\n",
    "             'bryancenter-251-ap3502i-hc-1','bryancenter-300-ap3502i-hc-1','bryancenter-aubon-ap3502i-rc-1',\n",
    "             'bryancenter-248-ap3502i-hc-1','bryancenter-305-ap3502i-rc-2','bryancenter-104t-ap3502i-hc-1',\n",
    "             'bryancenter-243-ap3502i-hc-1','bryancenter-216-ap3502i-hc-1','bryancenter-241-ap3502i-hc-1',\n",
    "             'bryancenter-306-ap3502i-rc-1','bryancenter-246-ap3502i-hc-1','bryancenter-208-ap3502i-hc-1',\n",
    "             'bryancenter-somewhr-ap3502i-rc-1','bryancenter-339-ap3502i-rc-1','bryancenter-304-ap3502i-rc-1']\n",
    "    for i in build:\n",
    "        if dic[i]<0:\n",
    "            dic[i] = 0\n",
    "        if dic[i]>50:\n",
    "            dic[i] = int(0.85*dic[i])\n",
    "            continue\n",
    "        if dic[i]>30:\n",
    "            dic[i] = int(0.97*dic[i])\n",
    "            continue\n",
    "    return dic"
   ]
  },
  {
   "cell_type": "markdown",
   "metadata": {},
   "source": [
    "## Modified code\n",
    "_Relies heavily on processess developed by the foottraffic team_"
   ]
  },
  {
   "cell_type": "code",
   "execution_count": 7,
   "metadata": {},
   "outputs": [],
   "source": [
    "#Imports events from the whole day on 9/1/2020\n",
    "dfData = pd.read_csv(\"2020-09-01.csv\")"
   ]
  },
  {
   "cell_type": "code",
   "execution_count": 11,
   "metadata": {},
   "outputs": [],
   "source": [
    "#include connections of association type only\n",
    "dfData = dfData[dfData['ssid'].str.contains('unknown')]"
   ]
  },
  {
   "cell_type": "code",
   "execution_count": 16,
   "metadata": {},
   "outputs": [
    {
     "data": {
      "text/plain": [
       "(147934, 9)"
      ]
     },
     "execution_count": 16,
     "metadata": {},
     "output_type": "execute_result"
    }
   ],
   "source": [
    "#delete duplicates\n",
    "dfData=dfData.drop_duplicates(['time','ap_name','building_id','building_name','ssid','affil','radiomac','netid_hashed',\n",
    "                               'macaddr_hashed'])\n",
    "\n",
    "dfData.shape"
   ]
  },
  {
   "cell_type": "code",
   "execution_count": 22,
   "metadata": {},
   "outputs": [
    {
     "data": {
      "text/plain": [
       "<bound method Series.max of 366407    2020-09-01T00:00:02.000-04:00\n",
       "366465    2020-09-01T00:00:02.000-04:00\n",
       "365863    2020-09-01T00:00:03.000-04:00\n",
       "365686    2020-09-01T00:00:09.000-04:00\n",
       "365860    2020-09-01T00:00:09.000-04:00\n",
       "                      ...              \n",
       "364470    2020-09-01T23:59:16.000-04:00\n",
       "364466    2020-09-01T23:59:25.000-04:00\n",
       "363119    2020-09-01T23:59:34.000-04:00\n",
       "364464    2020-09-01T23:59:37.000-04:00\n",
       "363901    2020-09-01T23:59:42.000-04:00\n",
       "Name: time, Length: 147934, dtype: object>"
      ]
     },
     "execution_count": 22,
     "metadata": {},
     "output_type": "execute_result"
    }
   ],
   "source": [
    "#Arranges events by time\n",
    "dfData.sort_values(by=[\"time\"], inplace=True, ascending=True)\n",
    "\n",
    "#Check that data covers the whole day\n",
    "dfData['time'].min\n",
    "dfData['time'].max"
   ]
  },
  {
   "cell_type": "code",
   "execution_count": 23,
   "metadata": {},
   "outputs": [],
   "source": [
    "#Imports dataframe with access point location\n",
    "dfAps = pd.read_csv(\"bryan_center_aps_2019-12-10-Edited.csv\")"
   ]
  },
  {
   "cell_type": "code",
   "execution_count": 28,
   "metadata": {},
   "outputs": [],
   "source": [
    "#Creates a dictionary for the counts of users at each access point\n",
    "dicCount = {ap: 0.0 for ap in dfAps['name']}\n",
    "dicCount[\"7791-bryancenter-roof-11\"] = 0\n",
    "dicUser = {}\n",
    "\n",
    "# dictionary of user to ap - need to examine more\n",
    "minTime = 0\n",
    "date = extract_time(dfData['time'][0])[2]\n",
    "dfRet = pd.DataFrame.from_dict(dicCount, orient='index')\n",
    "dfRet.rename(columns={0: 'Count'}, inplace=True)\n",
    "listTime = [date + ' {:02d}:{:02d}'.format(*divmod(0, 60)) for k in dicCount]\n",
    "dfRet['Time'] = listTime\n",
    "dfRet['minTime'] = [0 for k in dicCount]"
   ]
  },
  {
   "cell_type": "code",
   "execution_count": 33,
   "metadata": {},
   "outputs": [
    {
     "name": "stdout",
     "output_type": "stream",
     "text": [
      "105.0\n"
     ]
    }
   ],
   "source": [
    "#need to examine more\n",
    "for ind in dfData.index:\n",
    "    user = dfData['macaddr_hashed'][ind]\n",
    "    ap = dfData['ap_name'][ind]\n",
    "    if ap not in dicCount:\n",
    "        dicCount[ap] = 0\n",
    "    #     new user scenario\n",
    "    if user not in dicUser:\n",
    "        dicUser[user] = ap\n",
    "        dicCount[ap] += 1\n",
    "    #     user moving in building\n",
    "    else:\n",
    "        apOld = dicUser[user]\n",
    "        dicUser[user] = ap\n",
    "        dicCount[apOld] -= 1\n",
    "        dicCount[ap] += 1\n",
    "    # executes every 5 min to print ap count values\n",
    "    logMinTime = extract_time(dfData['time'][ind])[1]\n",
    "    if logMinTime > 5 + minTime:\n",
    "        # reduce(dicCount)\n",
    "        dfDicCount = pd.DataFrame.from_dict(dicCount, orient='index')\n",
    "        dfDicCount.rename(columns={0: 'Count'}, inplace=True)\n",
    "        dfDicCount.sort_values(by = [\"Count\"], inplace = True, ascending = False)\n",
    "        minTime += 5\n",
    "        listTime = [date + ' {:02d}:{:02d}'.format(*divmod(minTime, 60)) for k in dicCount]\n",
    "        dfDicCount['Time'] = listTime\n",
    "        dfDicCount['minTime'] = [minTime for k in dicCount]\n",
    "        dfRet = dfRet.append(dfDicCount)\n",
    "\n",
    "print(dicCount[\"bryancenter-roof-ap1562d-rw-8\"])"
   ]
  }
 ],
 "metadata": {
  "kernelspec": {
   "display_name": "Python 3",
   "language": "python",
   "name": "python3"
  },
  "language_info": {
   "codemirror_mode": {
    "name": "ipython",
    "version": 3
   },
   "file_extension": ".py",
   "mimetype": "text/x-python",
   "name": "python",
   "nbconvert_exporter": "python",
   "pygments_lexer": "ipython3",
   "version": "3.7.4"
  }
 },
 "nbformat": 4,
 "nbformat_minor": 2
}
